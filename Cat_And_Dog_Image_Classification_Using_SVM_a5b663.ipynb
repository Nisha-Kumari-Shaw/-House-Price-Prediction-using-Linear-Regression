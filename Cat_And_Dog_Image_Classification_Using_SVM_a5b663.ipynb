{
  "metadata": {
    "kernelspec": {
      "language": "python",
      "display_name": "Python 3",
      "name": "python3"
    },
    "language_info": {
      "name": "python",
      "version": "3.7.12",
      "mimetype": "text/x-python",
      "codemirror_mode": {
        "name": "ipython",
        "version": 3
      },
      "pygments_lexer": "ipython3",
      "nbconvert_exporter": "python",
      "file_extension": ".py"
    },
    "kaggle": {
      "accelerator": "gpu",
      "dataSources": [
        {
          "sourceId": 30378,
          "sourceType": "datasetVersion",
          "datasetId": 23777
        }
      ],
      "dockerImageVersionId": 30154,
      "isInternetEnabled": false,
      "language": "python",
      "sourceType": "notebook",
      "isGpuEnabled": true
    },
    "colab": {
      "name": "Cat And Dog Image Classification Using SVM a5b663",
      "provenance": [],
      "include_colab_link": true
    }
  },
  "nbformat_minor": 0,
  "nbformat": 4,
  "cells": [
    {
      "cell_type": "markdown",
      "metadata": {
        "id": "view-in-github",
        "colab_type": "text"
      },
      "source": [
        "<a href=\"https://colab.research.google.com/github/Nisha-Kumari-Shaw/-House-Price-Prediction-using-Linear-Regression/blob/main/Cat_And_Dog_Image_Classification_Using_SVM_a5b663.ipynb\" target=\"_parent\"><img src=\"https://colab.research.google.com/assets/colab-badge.svg\" alt=\"Open In Colab\"/></a>"
      ]
    },
    {
      "source": [
        "# IMPORTANT: RUN THIS CELL IN ORDER TO IMPORT YOUR KAGGLE DATA SOURCES,\n",
        "# THEN FEEL FREE TO DELETE THIS CELL.\n",
        "# NOTE: THIS NOTEBOOK ENVIRONMENT DIFFERS FROM KAGGLE'S PYTHON\n",
        "# ENVIRONMENT SO THERE MAY BE MISSING LIBRARIES USED BY YOUR\n",
        "# NOTEBOOK.\n",
        "import kagglehub\n",
        "tongpython_cat_and_dog_path = kagglehub.dataset_download('tongpython/cat-and-dog')\n",
        "\n",
        "print('Data source import complete.')\n"
      ],
      "metadata": {
        "id": "Xc9yoidni2iL"
      },
      "cell_type": "code",
      "outputs": [],
      "execution_count": null
    },
    {
      "cell_type": "markdown",
      "source": [
        "# Introduction\n",
        "\n",
        "![](https://miro.medium.com/max/1400/1*oB3S5yHHhvougJkPXuc8og.gif)\n",
        "\n",
        "## What is Image classification?\n",
        "Image classification is the process of categorizing and labeling groups of pixels or vectors within an image based on specific rules. The categorization law can be devised using one or more spectral or textural characteristics.\n",
        "\n",
        "##  Different image classification techniques:\n",
        "![](https://raw.githubusercontent.com/everydaycodings/files-for-multiplethings/master/1.png)"
      ],
      "metadata": {
        "id": "f0CeIi4Wi2iN"
      }
    },
    {
      "cell_type": "markdown",
      "source": [
        "## Importing the Usefull Modules"
      ],
      "metadata": {
        "id": "rQqUZhvsi2iO"
      }
    },
    {
      "cell_type": "code",
      "source": [
        "import pandas as pd\n",
        "import numpy as np\n",
        "import tensorflow as tf\n",
        "\n",
        "import warnings\n",
        "warnings.filterwarnings('ignore')"
      ],
      "metadata": {
        "execution": {
          "iopub.status.busy": "2025-05-27T16:19:05.507809Z",
          "iopub.execute_input": "2025-05-27T16:19:05.508273Z",
          "iopub.status.idle": "2025-05-27T16:19:12.596126Z",
          "shell.execute_reply.started": "2025-05-27T16:19:05.50811Z",
          "shell.execute_reply": "2025-05-27T16:19:12.594857Z"
        },
        "trusted": true,
        "id": "TtVbCiZHi2iP"
      },
      "outputs": [],
      "execution_count": null
    },
    {
      "cell_type": "markdown",
      "source": [
        "### The Code Given Below Tells to Computer that I will not be using my Entire GPU power. Just use till maximum of 60%"
      ],
      "metadata": {
        "id": "rkx-EPgLi2iQ"
      }
    },
    {
      "cell_type": "code",
      "source": [
        "from tensorflow.compat.v1 import ConfigProto\n",
        "from tensorflow.compat.v1 import InteractiveSession\n",
        "\n",
        "config = ConfigProto()\n",
        "config.gpu_options.per_process_gpu_memory_fraction = 0.6\n",
        "config.gpu_options.allow_growth = True\n",
        "session = InteractiveSession(config=config)"
      ],
      "metadata": {
        "execution": {
          "iopub.status.busy": "2025-05-27T16:19:12.598472Z",
          "iopub.execute_input": "2025-05-27T16:19:12.598825Z",
          "iopub.status.idle": "2025-05-27T16:19:12.712714Z",
          "shell.execute_reply.started": "2025-05-27T16:19:12.598791Z",
          "shell.execute_reply": "2025-05-27T16:19:12.711284Z"
        },
        "trusted": true,
        "id": "vBwyVx2Ei2iR",
        "outputId": "f08f9836-9178-437e-9651-1939f91e0e68"
      },
      "outputs": [
        {
          "name": "stderr",
          "text": "\nUser settings:\n\n   KMP_AFFINITY=granularity=fine,verbose,compact,1,0\n   KMP_BLOCKTIME=0\n   KMP_SETTINGS=1\n   KMP_WARNINGS=0\n\nEffective settings:\n\n   KMP_ABORT_DELAY=0\n   KMP_ADAPTIVE_LOCK_PROPS='1,1024'\n   KMP_ALIGN_ALLOC=64\n   KMP_ALL_THREADPRIVATE=128\n   KMP_ATOMIC_MODE=2\n   KMP_BLOCKTIME=0\n   KMP_CPUINFO_FILE: value is not defined\n   KMP_DETERMINISTIC_REDUCTION=false\n   KMP_DEVICE_THREAD_LIMIT=2147483647\n   KMP_DISP_NUM_BUFFERS=7\n   KMP_DUPLICATE_LIB_OK=false\n   KMP_ENABLE_TASK_THROTTLING=true\n   KMP_FORCE_REDUCTION: value is not defined\n   KMP_FOREIGN_THREADS_THREADPRIVATE=true\n   KMP_FORKJOIN_BARRIER='2,2'\n   KMP_FORKJOIN_BARRIER_PATTERN='hyper,hyper'\n   KMP_GTID_MODE=3\n   KMP_HANDLE_SIGNALS=false\n   KMP_HOT_TEAMS_MAX_LEVEL=1\n   KMP_HOT_TEAMS_MODE=0\n   KMP_INIT_AT_FORK=true\n   KMP_LIBRARY=throughput\n   KMP_LOCK_KIND=queuing\n   KMP_MALLOC_POOL_INCR=1M\n   KMP_NUM_LOCKS_IN_BLOCK=1\n   KMP_PLAIN_BARRIER='2,2'\n   KMP_PLAIN_BARRIER_PATTERN='hyper,hyper'\n   KMP_REDUCTION_BARRIER='1,1'\n   KMP_REDUCTION_BARRIER_PATTERN='hyper,hyper'\n   KMP_SCHEDULE='static,balanced;guided,iterative'\n   KMP_SETTINGS=true\n   KMP_SPIN_BACKOFF_PARAMS='4096,100'\n   KMP_STACKOFFSET=64\n   KMP_STACKPAD=0\n   KMP_STACKSIZE=8M\n   KMP_STORAGE_MAP=false\n   KMP_TASKING=2\n   KMP_TASKLOOP_MIN_TASKS=0\n   KMP_TASK_STEALING_CONSTRAINT=1\n   KMP_TEAMS_THREAD_LIMIT=4\n   KMP_TOPOLOGY_METHOD=all\n   KMP_USE_YIELD=1\n   KMP_VERSION=false\n   KMP_WARNINGS=false\n   OMP_AFFINITY_FORMAT='OMP: pid %P tid %i thread %n bound to OS proc set {%A}'\n   OMP_ALLOCATOR=omp_default_mem_alloc\n   OMP_CANCELLATION=false\n   OMP_DEFAULT_DEVICE=0\n   OMP_DISPLAY_AFFINITY=false\n   OMP_DISPLAY_ENV=false\n   OMP_DYNAMIC=false\n   OMP_MAX_ACTIVE_LEVELS=1\n   OMP_MAX_TASK_PRIORITY=0\n   OMP_NESTED: deprecated; max-active-levels-var=1\n   OMP_NUM_THREADS: value is not defined\n   OMP_PLACES: value is not defined\n   OMP_PROC_BIND='intel'\n   OMP_SCHEDULE='static'\n   OMP_STACKSIZE=8M\n   OMP_TARGET_OFFLOAD=DEFAULT\n   OMP_THREAD_LIMIT=2147483647\n   OMP_WAIT_POLICY=PASSIVE\n   KMP_AFFINITY='verbose,warnings,respect,granularity=fine,compact,1,0'\n\n",
          "output_type": "stream"
        }
      ],
      "execution_count": null
    },
    {
      "cell_type": "markdown",
      "source": [
        "### Preprocessing the training Data using ImageDataGenerator\n",
        "#### One of the methods to prevent overfitting is to have more data. By this, our model will be exposed to more aspects of data and thus will generalize better. To get more data, either you manually collect data or generate data from the existing data by applying some transformations. The latter method is known as Data Augmentation.\n",
        "\n",
        " - **rescale:** rescaling factor. If None or 0, no rescaling is applied, otherwise we multiply the data by the value provided.\n",
        " - **shear_range:** This is the shear angle in the counter-clockwise direction in degrees.\n",
        " - **zoom_range:** This zooms the image.\n",
        " - **horizontal_flip:** Randomly flips the input image in the horizontal direction.\n"
      ],
      "metadata": {
        "id": "CQLqNn0ri2iS"
      }
    },
    {
      "cell_type": "code",
      "source": [
        "from tensorflow.keras.preprocessing.image import ImageDataGenerator\n",
        "\n",
        "datagen = ImageDataGenerator(rescale=1./255, shear_range=0.2, zoom_range=0.2, horizontal_flip=True)\n",
        "\n",
        "training_set = datagen.flow_from_directory(\n",
        "        \"../input/cat-and-dog/training_set/training_set/\",\n",
        "        target_size=(64, 64),\n",
        "        batch_size=32,\n",
        "        class_mode=\"binary\"\n",
        "      )\n"
      ],
      "metadata": {
        "execution": {
          "iopub.status.busy": "2025-05-27T16:19:12.715099Z",
          "iopub.execute_input": "2025-05-27T16:19:12.715512Z",
          "iopub.status.idle": "2025-05-27T16:19:29.713544Z",
          "shell.execute_reply.started": "2025-05-27T16:19:12.715464Z",
          "shell.execute_reply": "2025-05-27T16:19:29.712304Z"
        },
        "trusted": true,
        "id": "IJCWJSBgi2iT",
        "outputId": "96c52e7d-0200-493d-ffe9-1eec3293af98"
      },
      "outputs": [
        {
          "name": "stdout",
          "text": "Found 8005 images belonging to 2 classes.\n",
          "output_type": "stream"
        }
      ],
      "execution_count": null
    },
    {
      "cell_type": "markdown",
      "source": [
        "### Preprocessing the test Data using ImageDataGenerator"
      ],
      "metadata": {
        "id": "hRIw5NQyi2iU"
      }
    },
    {
      "cell_type": "code",
      "source": [
        "datagen1 = ImageDataGenerator(rescale=1./255)\n",
        "\n",
        "test_set = datagen1.flow_from_directory(\n",
        "        \"../input/cat-and-dog/test_set/test_set\",\n",
        "        target_size=(64, 64),\n",
        "        batch_size=32,\n",
        "        class_mode=\"binary\"\n",
        "      )"
      ],
      "metadata": {
        "execution": {
          "iopub.status.busy": "2025-05-27T16:19:29.714946Z",
          "iopub.execute_input": "2025-05-27T16:19:29.71517Z",
          "iopub.status.idle": "2025-05-27T16:19:37.603983Z",
          "shell.execute_reply.started": "2025-05-27T16:19:29.715143Z",
          "shell.execute_reply": "2025-05-27T16:19:37.602688Z"
        },
        "trusted": true,
        "id": "_MN3g2eei2iU",
        "outputId": "e1d99e79-49ae-4400-f252-4ef19426bb99"
      },
      "outputs": [
        {
          "name": "stdout",
          "text": "Found 2023 images belonging to 2 classes.\n",
          "output_type": "stream"
        }
      ],
      "execution_count": null
    },
    {
      "cell_type": "markdown",
      "source": [
        "# Creating the Model"
      ],
      "metadata": {
        "id": "4-1tlPsUi2iV"
      }
    },
    {
      "cell_type": "markdown",
      "source": [
        "### Importing useful models for CNN Layers"
      ],
      "metadata": {
        "id": "khQkdlRji2iV"
      }
    },
    {
      "cell_type": "code",
      "source": [
        "from tensorflow.keras.layers import Conv2D\n",
        "from tensorflow.keras.layers import Dense"
      ],
      "metadata": {
        "execution": {
          "iopub.status.busy": "2025-05-27T16:19:37.606176Z",
          "iopub.execute_input": "2025-05-27T16:19:37.606539Z",
          "iopub.status.idle": "2025-05-27T16:19:37.612789Z",
          "shell.execute_reply.started": "2025-05-27T16:19:37.606506Z",
          "shell.execute_reply": "2025-05-27T16:19:37.611539Z"
        },
        "trusted": true,
        "id": "mI3vDryvi2iV"
      },
      "outputs": [],
      "execution_count": null
    },
    {
      "cell_type": "code",
      "source": [
        "from tensorflow.keras.regularizers import l2"
      ],
      "metadata": {
        "execution": {
          "iopub.status.busy": "2025-05-27T16:19:37.614323Z",
          "iopub.execute_input": "2025-05-27T16:19:37.614585Z",
          "iopub.status.idle": "2025-05-27T16:19:37.627813Z",
          "shell.execute_reply.started": "2025-05-27T16:19:37.614554Z",
          "shell.execute_reply": "2025-05-27T16:19:37.626751Z"
        },
        "trusted": true,
        "id": "VxFttirri2iV"
      },
      "outputs": [],
      "execution_count": null
    },
    {
      "cell_type": "markdown",
      "source": [
        "### When to use a Sequential model\n",
        "\n",
        "A Sequential model is appropriate for a plain stack of layers where each layer has exactly one input tensor and one output tensor.\n",
        "\n",
        "A Sequential model is **not appropriate** when:\n",
        "- Your model has multiple inputs or multiple outputs\n",
        "- Any of your layers has multiple inputs or multiple outputs\n",
        "- You need to do layer sharing\n",
        "- You want non-linear topology (e.g. a residual connection, a multi-branch model)\n"
      ],
      "metadata": {
        "id": "9oUAP3fOi2iV"
      }
    },
    {
      "cell_type": "code",
      "source": [
        "cnn = tf.keras.models.Sequential()"
      ],
      "metadata": {
        "execution": {
          "iopub.status.busy": "2025-05-27T16:19:37.631282Z",
          "iopub.execute_input": "2025-05-27T16:19:37.631633Z",
          "iopub.status.idle": "2025-05-27T16:19:37.683053Z",
          "shell.execute_reply.started": "2025-05-27T16:19:37.631589Z",
          "shell.execute_reply": "2025-05-27T16:19:37.681991Z"
        },
        "trusted": true,
        "id": "ZWR0L-kui2iW"
      },
      "outputs": [],
      "execution_count": null
    },
    {
      "cell_type": "markdown",
      "source": [
        "### Step 1 - Convolution\n",
        "This layer creates a convolution kernel that is convolved with the layer input to produce a tensor of outputs. If use_bias is True, a bias vector is created and added to the outputs. Finally, if activation is not None, it is applied to the outputs as well.\n",
        "\n",
        "When using this layer as the first layer in a model, provide the keyword argument input_shape (tuple of integers or None, does not include the sample axis), e.g. `input_shape=(64, 64, 3)` for 64x64 RGB pictures in `data_format=\"channels_last\"`. You can use None when a dimension has variable size.\n",
        "\n",
        "**Arguments Used:**\n",
        "- **filters:** Integer, the dimensionality of the output space.\n",
        "- **padding:** one of \"valid\" or \"same\". \"valid\" means no padding. \"same\" results in padding with zeros evenly to the left/right or up/down of the input such that output has the same height/width dimension as the input.\n",
        "- **kernel_size:** An integer or tuple/list of 2 integers, specifying the height and width of the 2D convolution window.\n",
        "- **activation:** Activation function to use. If you don't specify anything, no activation is applied.\n",
        "- **strides:** An integer or tuple/list of 2 integers, specifying the strides of the convolution along the height and width."
      ],
      "metadata": {
        "id": "kA33kg5Hi2iX"
      }
    },
    {
      "cell_type": "code",
      "source": [
        "cnn.add(tf.keras.layers.Conv2D(filters=32,padding=\"same\",kernel_size=3, activation='relu', strides=2, input_shape=[64, 64, 3]))"
      ],
      "metadata": {
        "execution": {
          "iopub.status.busy": "2025-05-27T16:19:37.684984Z",
          "iopub.execute_input": "2025-05-27T16:19:37.685391Z",
          "iopub.status.idle": "2025-05-27T16:19:37.7615Z",
          "shell.execute_reply.started": "2025-05-27T16:19:37.685343Z",
          "shell.execute_reply": "2025-05-27T16:19:37.760379Z"
        },
        "trusted": true,
        "id": "RMk_TdkJi2iX"
      },
      "outputs": [],
      "execution_count": null
    },
    {
      "cell_type": "markdown",
      "source": [
        "### Step 2 - Pooling\n",
        "Downsamples the input along its spatial dimensions (height and width) by taking the maximum value over an input window (of size defined by pool_size) for each channel of the input. The window is shifted by strides along each dimension."
      ],
      "metadata": {
        "id": "49s006xAi2iX"
      }
    },
    {
      "cell_type": "code",
      "source": [
        "cnn.add(tf.keras.layers.MaxPool2D(pool_size=2, strides=2))"
      ],
      "metadata": {
        "execution": {
          "iopub.status.busy": "2025-05-27T16:19:37.762665Z",
          "iopub.execute_input": "2025-05-27T16:19:37.762939Z",
          "iopub.status.idle": "2025-05-27T16:19:37.777952Z",
          "shell.execute_reply.started": "2025-05-27T16:19:37.762905Z",
          "shell.execute_reply": "2025-05-27T16:19:37.776486Z"
        },
        "trusted": true,
        "id": "mNCkDYXFi2iX"
      },
      "outputs": [],
      "execution_count": null
    },
    {
      "cell_type": "markdown",
      "source": [
        "### Adding a second convolutional layer"
      ],
      "metadata": {
        "id": "IYUuOuvFi2iX"
      }
    },
    {
      "cell_type": "code",
      "source": [
        "cnn.add(tf.keras.layers.Conv2D(filters=32,padding='same',kernel_size=3, activation='relu'))\n",
        "cnn.add(tf.keras.layers.MaxPool2D(pool_size=2, strides=2))"
      ],
      "metadata": {
        "execution": {
          "iopub.status.busy": "2025-05-27T16:19:37.779415Z",
          "iopub.execute_input": "2025-05-27T16:19:37.779859Z",
          "iopub.status.idle": "2025-05-27T16:19:37.815955Z",
          "shell.execute_reply.started": "2025-05-27T16:19:37.779817Z",
          "shell.execute_reply": "2025-05-27T16:19:37.814769Z"
        },
        "trusted": true,
        "id": "EkY-HTPEi2iX"
      },
      "outputs": [],
      "execution_count": null
    },
    {
      "cell_type": "markdown",
      "source": [
        "### Step 3 - Flattening\n",
        "**Flattens the input. Does not affect the batch size.**\n",
        "\n",
        "**Note:** If inputs are shaped (batch,) without a feature axis, then flattening adds an extra channel dimension and output shape is (batch, 1)."
      ],
      "metadata": {
        "id": "RmuLJYLSi2iX"
      }
    },
    {
      "cell_type": "code",
      "source": [
        "cnn.add(tf.keras.layers.Flatten())"
      ],
      "metadata": {
        "execution": {
          "iopub.status.busy": "2025-05-27T16:19:37.818297Z",
          "iopub.execute_input": "2025-05-27T16:19:37.818699Z",
          "iopub.status.idle": "2025-05-27T16:19:37.835871Z",
          "shell.execute_reply.started": "2025-05-27T16:19:37.818649Z",
          "shell.execute_reply": "2025-05-27T16:19:37.834682Z"
        },
        "trusted": true,
        "id": "MmfmKWpRi2iY"
      },
      "outputs": [],
      "execution_count": null
    },
    {
      "cell_type": "markdown",
      "source": [
        "### Step 4 - Full Connection"
      ],
      "metadata": {
        "id": "seo79i_5i2iY"
      }
    },
    {
      "cell_type": "code",
      "source": [
        "cnn.add(tf.keras.layers.Dense(units=128, activation='relu'))"
      ],
      "metadata": {
        "execution": {
          "iopub.status.busy": "2025-05-27T16:19:37.837556Z",
          "iopub.execute_input": "2025-05-27T16:19:37.837948Z",
          "iopub.status.idle": "2025-05-27T16:19:37.869776Z",
          "shell.execute_reply.started": "2025-05-27T16:19:37.83791Z",
          "shell.execute_reply": "2025-05-27T16:19:37.868391Z"
        },
        "trusted": true,
        "id": "aCYmeSh1i2iY"
      },
      "outputs": [],
      "execution_count": null
    },
    {
      "cell_type": "markdown",
      "source": [
        "### Step 5 - Output Layer"
      ],
      "metadata": {
        "id": "n7j1Bu75i2iY"
      }
    },
    {
      "cell_type": "code",
      "source": [
        "cnn.add(Dense(1, kernel_regularizer=tf.keras.regularizers.l2(0.01),activation\n",
        "             ='linear'))"
      ],
      "metadata": {
        "execution": {
          "iopub.status.busy": "2025-05-27T16:19:37.871896Z",
          "iopub.execute_input": "2025-05-27T16:19:37.872221Z",
          "iopub.status.idle": "2025-05-27T16:19:37.896044Z",
          "shell.execute_reply.started": "2025-05-27T16:19:37.872174Z",
          "shell.execute_reply": "2025-05-27T16:19:37.89477Z"
        },
        "trusted": true,
        "id": "4CPFSCUvi2iY"
      },
      "outputs": [],
      "execution_count": null
    },
    {
      "cell_type": "markdown",
      "source": [
        "### Printing out the summary of the Layers"
      ],
      "metadata": {
        "id": "O2skwaXmi2iY"
      }
    },
    {
      "cell_type": "code",
      "source": [
        "cnn.summary()"
      ],
      "metadata": {
        "execution": {
          "iopub.status.busy": "2025-05-27T16:19:37.898014Z",
          "iopub.execute_input": "2025-05-27T16:19:37.89838Z",
          "iopub.status.idle": "2025-05-27T16:19:37.911647Z",
          "shell.execute_reply.started": "2025-05-27T16:19:37.898336Z",
          "shell.execute_reply": "2025-05-27T16:19:37.910457Z"
        },
        "trusted": true,
        "id": "D_ryQmQ_i2iY",
        "outputId": "96e59fb9-a112-4c69-d9e2-0f0705ac8b68"
      },
      "outputs": [
        {
          "name": "stdout",
          "text": "Model: \"sequential\"\n_________________________________________________________________\nLayer (type)                 Output Shape              Param #   \n=================================================================\nconv2d (Conv2D)              (None, 32, 32, 32)        896       \n_________________________________________________________________\nmax_pooling2d (MaxPooling2D) (None, 16, 16, 32)        0         \n_________________________________________________________________\nconv2d_1 (Conv2D)            (None, 16, 16, 32)        9248      \n_________________________________________________________________\nmax_pooling2d_1 (MaxPooling2 (None, 8, 8, 32)          0         \n_________________________________________________________________\nflatten (Flatten)            (None, 2048)              0         \n_________________________________________________________________\ndense (Dense)                (None, 128)               262272    \n_________________________________________________________________\ndense_1 (Dense)              (None, 1)                 129       \n=================================================================\nTotal params: 272,545\nTrainable params: 272,545\nNon-trainable params: 0\n_________________________________________________________________\n",
          "output_type": "stream"
        }
      ],
      "execution_count": null
    },
    {
      "cell_type": "markdown",
      "source": [
        "## Training the CNN"
      ],
      "metadata": {
        "id": "IQ7YxXVxi2iY"
      }
    },
    {
      "cell_type": "markdown",
      "source": [
        "### Compiling the CNN\n",
        "#### Attributes:\n",
        "- **optimizer:** String (name of optimizer) or optimizer instance.\n",
        "- **loss:** Loss function.\n",
        "- **metrics:** List of metrics to be evaluated by the model during training and testing."
      ],
      "metadata": {
        "id": "P1LOHcNKi2iZ"
      }
    },
    {
      "cell_type": "code",
      "source": [
        "cnn.compile(optimizer = 'adam', loss = 'hinge', metrics = ['accuracy'])"
      ],
      "metadata": {
        "execution": {
          "iopub.status.busy": "2025-05-27T16:19:37.91309Z",
          "iopub.execute_input": "2025-05-27T16:19:37.913362Z",
          "iopub.status.idle": "2025-05-27T16:19:37.935494Z",
          "shell.execute_reply.started": "2025-05-27T16:19:37.913331Z",
          "shell.execute_reply": "2025-05-27T16:19:37.9341Z"
        },
        "trusted": true,
        "id": "HOoWqqPHi2iZ"
      },
      "outputs": [],
      "execution_count": null
    },
    {
      "cell_type": "markdown",
      "source": [
        "### Training the CNN on the Training set and evaluating it on the Test set\n",
        "#### Attributes:\n",
        "- **x:** Input data\n",
        "- **validation_data:** Data on which to evaluate the loss and any model metrics at the end of each epoch.\n",
        "- **epochs:** Integer. Number of epochs to train the model."
      ],
      "metadata": {
        "id": "8zcPTGzRi2iZ"
      }
    },
    {
      "cell_type": "code",
      "source": [
        "r=cnn.fit(x = training_set, validation_data = test_set, epochs = 15)"
      ],
      "metadata": {
        "execution": {
          "iopub.status.busy": "2025-05-27T16:19:37.937066Z",
          "iopub.execute_input": "2025-05-27T16:19:37.937371Z"
        },
        "trusted": true,
        "id": "QLgL-v1ri2iZ",
        "outputId": "816d2837-2caa-4e9b-aeb6-dbda206cd452"
      },
      "outputs": [
        {
          "name": "stdout",
          "text": "Epoch 1/15\n",
          "output_type": "stream"
        }
      ],
      "execution_count": null
    },
    {
      "cell_type": "markdown",
      "source": [
        "## Ploting the Train loss,val loss and train acc, val acc"
      ],
      "metadata": {
        "id": "zB4RgiKei2ia"
      }
    },
    {
      "cell_type": "code",
      "source": [
        "# plot the loss\n",
        "import matplotlib.pyplot as plt\n",
        "plt.plot(r.history['loss'], label='train loss')\n",
        "plt.plot(r.history['val_loss'], label='val loss')\n",
        "plt.legend()\n",
        "plt.show()\n",
        "\n",
        "# plot the accuracy\n",
        "plt.plot(r.history['accuracy'], label='train acc')\n",
        "plt.plot(r.history['val_accuracy'], label='val acc')\n",
        "plt.legend()\n",
        "plt.show()"
      ],
      "metadata": {
        "trusted": true,
        "id": "5vXr2HEPi2ia"
      },
      "outputs": [],
      "execution_count": null
    },
    {
      "cell_type": "markdown",
      "source": [
        "### Saving the trained model"
      ],
      "metadata": {
        "id": "LxUwzRyai2ia"
      }
    },
    {
      "cell_type": "code",
      "source": [
        "from tensorflow.keras.models import load_model\n",
        "\n",
        "cnn.save('./model_rcat_dog.h5')"
      ],
      "metadata": {
        "trusted": true,
        "id": "Fiki_WyFi2ia"
      },
      "outputs": [],
      "execution_count": null
    },
    {
      "cell_type": "markdown",
      "source": [
        "### Taking the sample image converting the image to an array and predicting the result"
      ],
      "metadata": {
        "id": "wXwjJS2Ti2ih"
      }
    },
    {
      "cell_type": "code",
      "source": [
        "from tensorflow.keras.preprocessing import image\n",
        "test_image = image.load_img('../input/cat-and-dog/training_set/training_set/dogs/dog.1023.jpg', target_size = (64,64))\n",
        "test_image = image.img_to_array(test_image)\n",
        "test_image=test_image/255\n",
        "test_image = np.expand_dims(test_image, axis = 0)\n",
        "result = cnn.predict(test_image)"
      ],
      "metadata": {
        "trusted": true,
        "id": "vbbLG4CAi2ih"
      },
      "outputs": [],
      "execution_count": null
    },
    {
      "cell_type": "code",
      "source": [
        "if result[0]<0:\n",
        "    print(\"The image classified is cat\")\n",
        "else:\n",
        "    print(\"The image classified is dog\")"
      ],
      "metadata": {
        "trusted": true,
        "id": "5zzFEXmni2ii"
      },
      "outputs": [],
      "execution_count": null
    },
    {
      "cell_type": "markdown",
      "source": [
        "# Conclusion\n",
        "## This was Just a Introduction to Image Classification. In the upcomming Noteboook i will work on more complex real world problems."
      ],
      "metadata": {
        "id": "aHaqupyPi2ii"
      }
    }
  ]
}